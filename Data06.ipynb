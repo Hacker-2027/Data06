{
 "cells": [
  {
   "cell_type": "code",
   "id": "initial_id",
   "metadata": {
    "collapsed": true,
    "ExecuteTime": {
     "end_time": "2025-08-15T07:20:49.063247Z",
     "start_time": "2025-08-15T07:20:48.910375Z"
    }
   },
   "source": [
    "import pandas as pd\n",
    "df=pd.read_csv('players.csv')\n",
    "df.head()"
   ],
   "outputs": [
    {
     "data": {
      "text/plain": [
       "   soffifa_id                                         player_url  \\\n",
       "0      158023     https://sofifa.com/player/158023/lionel-messi/   \n",
       "1       20801  https://sofifa.com/player/20801/cristiano-rona...   \n",
       "2      190871           https://sofifa.com/player/190871/neymar/   \n",
       "3      192985  https://sofifa.com/player/192985/kevin-de-bruyne/   \n",
       "4      200389        https://sofifa.com/player/200389/jan-oblak/   \n",
       "\n",
       "          short_name                            long_name  age         dob  \\\n",
       "0           L. Messi       Lionel Andrés Messi Cuccittini   32  1987-06-24   \n",
       "1  Cristiano Ronaldo  Cristiano Ronaldo dos Santos Aveiro   34  1985-02-05   \n",
       "2          Neymar Jr        Neymar da Silva Santos Júnior   27  1992-02-05   \n",
       "3       K. De Bruyne                      Kevin De Bruyne   28  1991-06-28   \n",
       "4           J. Oblak                            Jan Oblak   27  1993-01-07   \n",
       "\n",
       "   height_cm  weight_kg  \n",
       "0        170         72  \n",
       "1        187         83  \n",
       "2        175         68  \n",
       "3        181         68  \n",
       "4        188         87  "
      ],
      "text/html": [
       "<div>\n",
       "<style scoped>\n",
       "    .dataframe tbody tr th:only-of-type {\n",
       "        vertical-align: middle;\n",
       "    }\n",
       "\n",
       "    .dataframe tbody tr th {\n",
       "        vertical-align: top;\n",
       "    }\n",
       "\n",
       "    .dataframe thead th {\n",
       "        text-align: right;\n",
       "    }\n",
       "</style>\n",
       "<table border=\"1\" class=\"dataframe\">\n",
       "  <thead>\n",
       "    <tr style=\"text-align: right;\">\n",
       "      <th></th>\n",
       "      <th>soffifa_id</th>\n",
       "      <th>player_url</th>\n",
       "      <th>short_name</th>\n",
       "      <th>long_name</th>\n",
       "      <th>age</th>\n",
       "      <th>dob</th>\n",
       "      <th>height_cm</th>\n",
       "      <th>weight_kg</th>\n",
       "    </tr>\n",
       "  </thead>\n",
       "  <tbody>\n",
       "    <tr>\n",
       "      <th>0</th>\n",
       "      <td>158023</td>\n",
       "      <td>https://sofifa.com/player/158023/lionel-messi/</td>\n",
       "      <td>L. Messi</td>\n",
       "      <td>Lionel Andrés Messi Cuccittini</td>\n",
       "      <td>32</td>\n",
       "      <td>1987-06-24</td>\n",
       "      <td>170</td>\n",
       "      <td>72</td>\n",
       "    </tr>\n",
       "    <tr>\n",
       "      <th>1</th>\n",
       "      <td>20801</td>\n",
       "      <td>https://sofifa.com/player/20801/cristiano-rona...</td>\n",
       "      <td>Cristiano Ronaldo</td>\n",
       "      <td>Cristiano Ronaldo dos Santos Aveiro</td>\n",
       "      <td>34</td>\n",
       "      <td>1985-02-05</td>\n",
       "      <td>187</td>\n",
       "      <td>83</td>\n",
       "    </tr>\n",
       "    <tr>\n",
       "      <th>2</th>\n",
       "      <td>190871</td>\n",
       "      <td>https://sofifa.com/player/190871/neymar/</td>\n",
       "      <td>Neymar Jr</td>\n",
       "      <td>Neymar da Silva Santos Júnior</td>\n",
       "      <td>27</td>\n",
       "      <td>1992-02-05</td>\n",
       "      <td>175</td>\n",
       "      <td>68</td>\n",
       "    </tr>\n",
       "    <tr>\n",
       "      <th>3</th>\n",
       "      <td>192985</td>\n",
       "      <td>https://sofifa.com/player/192985/kevin-de-bruyne/</td>\n",
       "      <td>K. De Bruyne</td>\n",
       "      <td>Kevin De Bruyne</td>\n",
       "      <td>28</td>\n",
       "      <td>1991-06-28</td>\n",
       "      <td>181</td>\n",
       "      <td>68</td>\n",
       "    </tr>\n",
       "    <tr>\n",
       "      <th>4</th>\n",
       "      <td>200389</td>\n",
       "      <td>https://sofifa.com/player/200389/jan-oblak/</td>\n",
       "      <td>J. Oblak</td>\n",
       "      <td>Jan Oblak</td>\n",
       "      <td>27</td>\n",
       "      <td>1993-01-07</td>\n",
       "      <td>188</td>\n",
       "      <td>87</td>\n",
       "    </tr>\n",
       "  </tbody>\n",
       "</table>\n",
       "</div>"
      ]
     },
     "execution_count": 6,
     "metadata": {},
     "output_type": "execute_result"
    }
   ],
   "execution_count": 6
  },
  {
   "metadata": {
    "ExecuteTime": {
     "end_time": "2025-08-15T07:20:50.772776Z",
     "start_time": "2025-08-15T07:20:49.748722Z"
    }
   },
   "cell_type": "code",
   "source": [
    "df=df.set_index(['short_name'])\n",
    "df.head()"
   ],
   "id": "f5ed875dd5d13a29",
   "outputs": [
    {
     "data": {
      "text/plain": [
       "                   soffifa_id  \\\n",
       "short_name                      \n",
       "L. Messi               158023   \n",
       "Cristiano Ronaldo       20801   \n",
       "Neymar Jr              190871   \n",
       "K. De Bruyne           192985   \n",
       "J. Oblak               200389   \n",
       "\n",
       "                                                          player_url  \\\n",
       "short_name                                                             \n",
       "L. Messi              https://sofifa.com/player/158023/lionel-messi/   \n",
       "Cristiano Ronaldo  https://sofifa.com/player/20801/cristiano-rona...   \n",
       "Neymar Jr                   https://sofifa.com/player/190871/neymar/   \n",
       "K. De Bruyne       https://sofifa.com/player/192985/kevin-de-bruyne/   \n",
       "J. Oblak                 https://sofifa.com/player/200389/jan-oblak/   \n",
       "\n",
       "                                             long_name  age         dob  \\\n",
       "short_name                                                                \n",
       "L. Messi                Lionel Andrés Messi Cuccittini   32  1987-06-24   \n",
       "Cristiano Ronaldo  Cristiano Ronaldo dos Santos Aveiro   34  1985-02-05   \n",
       "Neymar Jr                Neymar da Silva Santos Júnior   27  1992-02-05   \n",
       "K. De Bruyne                           Kevin De Bruyne   28  1991-06-28   \n",
       "J. Oblak                                     Jan Oblak   27  1993-01-07   \n",
       "\n",
       "                   height_cm  weight_kg  \n",
       "short_name                               \n",
       "L. Messi                 170         72  \n",
       "Cristiano Ronaldo        187         83  \n",
       "Neymar Jr                175         68  \n",
       "K. De Bruyne             181         68  \n",
       "J. Oblak                 188         87  "
      ],
      "text/html": [
       "<div>\n",
       "<style scoped>\n",
       "    .dataframe tbody tr th:only-of-type {\n",
       "        vertical-align: middle;\n",
       "    }\n",
       "\n",
       "    .dataframe tbody tr th {\n",
       "        vertical-align: top;\n",
       "    }\n",
       "\n",
       "    .dataframe thead th {\n",
       "        text-align: right;\n",
       "    }\n",
       "</style>\n",
       "<table border=\"1\" class=\"dataframe\">\n",
       "  <thead>\n",
       "    <tr style=\"text-align: right;\">\n",
       "      <th></th>\n",
       "      <th>soffifa_id</th>\n",
       "      <th>player_url</th>\n",
       "      <th>long_name</th>\n",
       "      <th>age</th>\n",
       "      <th>dob</th>\n",
       "      <th>height_cm</th>\n",
       "      <th>weight_kg</th>\n",
       "    </tr>\n",
       "    <tr>\n",
       "      <th>short_name</th>\n",
       "      <th></th>\n",
       "      <th></th>\n",
       "      <th></th>\n",
       "      <th></th>\n",
       "      <th></th>\n",
       "      <th></th>\n",
       "      <th></th>\n",
       "    </tr>\n",
       "  </thead>\n",
       "  <tbody>\n",
       "    <tr>\n",
       "      <th>L. Messi</th>\n",
       "      <td>158023</td>\n",
       "      <td>https://sofifa.com/player/158023/lionel-messi/</td>\n",
       "      <td>Lionel Andrés Messi Cuccittini</td>\n",
       "      <td>32</td>\n",
       "      <td>1987-06-24</td>\n",
       "      <td>170</td>\n",
       "      <td>72</td>\n",
       "    </tr>\n",
       "    <tr>\n",
       "      <th>Cristiano Ronaldo</th>\n",
       "      <td>20801</td>\n",
       "      <td>https://sofifa.com/player/20801/cristiano-rona...</td>\n",
       "      <td>Cristiano Ronaldo dos Santos Aveiro</td>\n",
       "      <td>34</td>\n",
       "      <td>1985-02-05</td>\n",
       "      <td>187</td>\n",
       "      <td>83</td>\n",
       "    </tr>\n",
       "    <tr>\n",
       "      <th>Neymar Jr</th>\n",
       "      <td>190871</td>\n",
       "      <td>https://sofifa.com/player/190871/neymar/</td>\n",
       "      <td>Neymar da Silva Santos Júnior</td>\n",
       "      <td>27</td>\n",
       "      <td>1992-02-05</td>\n",
       "      <td>175</td>\n",
       "      <td>68</td>\n",
       "    </tr>\n",
       "    <tr>\n",
       "      <th>K. De Bruyne</th>\n",
       "      <td>192985</td>\n",
       "      <td>https://sofifa.com/player/192985/kevin-de-bruyne/</td>\n",
       "      <td>Kevin De Bruyne</td>\n",
       "      <td>28</td>\n",
       "      <td>1991-06-28</td>\n",
       "      <td>181</td>\n",
       "      <td>68</td>\n",
       "    </tr>\n",
       "    <tr>\n",
       "      <th>J. Oblak</th>\n",
       "      <td>200389</td>\n",
       "      <td>https://sofifa.com/player/200389/jan-oblak/</td>\n",
       "      <td>Jan Oblak</td>\n",
       "      <td>27</td>\n",
       "      <td>1993-01-07</td>\n",
       "      <td>188</td>\n",
       "      <td>87</td>\n",
       "    </tr>\n",
       "  </tbody>\n",
       "</table>\n",
       "</div>"
      ]
     },
     "execution_count": 7,
     "metadata": {},
     "output_type": "execute_result"
    }
   ],
   "execution_count": 7
  },
  {
   "metadata": {
    "ExecuteTime": {
     "end_time": "2025-08-15T07:20:51.154523Z",
     "start_time": "2025-08-15T07:20:50.881783Z"
    }
   },
   "cell_type": "code",
   "source": [
    "df=df[['long_name','age','dob','height_cm','weight_kg']]\n",
    "df.head()"
   ],
   "id": "5c8476695ab95b3",
   "outputs": [
    {
     "data": {
      "text/plain": [
       "                                             long_name  age         dob  \\\n",
       "short_name                                                                \n",
       "L. Messi                Lionel Andrés Messi Cuccittini   32  1987-06-24   \n",
       "Cristiano Ronaldo  Cristiano Ronaldo dos Santos Aveiro   34  1985-02-05   \n",
       "Neymar Jr                Neymar da Silva Santos Júnior   27  1992-02-05   \n",
       "K. De Bruyne                           Kevin De Bruyne   28  1991-06-28   \n",
       "J. Oblak                                     Jan Oblak   27  1993-01-07   \n",
       "\n",
       "                   height_cm  weight_kg  \n",
       "short_name                               \n",
       "L. Messi                 170         72  \n",
       "Cristiano Ronaldo        187         83  \n",
       "Neymar Jr                175         68  \n",
       "K. De Bruyne             181         68  \n",
       "J. Oblak                 188         87  "
      ],
      "text/html": [
       "<div>\n",
       "<style scoped>\n",
       "    .dataframe tbody tr th:only-of-type {\n",
       "        vertical-align: middle;\n",
       "    }\n",
       "\n",
       "    .dataframe tbody tr th {\n",
       "        vertical-align: top;\n",
       "    }\n",
       "\n",
       "    .dataframe thead th {\n",
       "        text-align: right;\n",
       "    }\n",
       "</style>\n",
       "<table border=\"1\" class=\"dataframe\">\n",
       "  <thead>\n",
       "    <tr style=\"text-align: right;\">\n",
       "      <th></th>\n",
       "      <th>long_name</th>\n",
       "      <th>age</th>\n",
       "      <th>dob</th>\n",
       "      <th>height_cm</th>\n",
       "      <th>weight_kg</th>\n",
       "    </tr>\n",
       "    <tr>\n",
       "      <th>short_name</th>\n",
       "      <th></th>\n",
       "      <th></th>\n",
       "      <th></th>\n",
       "      <th></th>\n",
       "      <th></th>\n",
       "    </tr>\n",
       "  </thead>\n",
       "  <tbody>\n",
       "    <tr>\n",
       "      <th>L. Messi</th>\n",
       "      <td>Lionel Andrés Messi Cuccittini</td>\n",
       "      <td>32</td>\n",
       "      <td>1987-06-24</td>\n",
       "      <td>170</td>\n",
       "      <td>72</td>\n",
       "    </tr>\n",
       "    <tr>\n",
       "      <th>Cristiano Ronaldo</th>\n",
       "      <td>Cristiano Ronaldo dos Santos Aveiro</td>\n",
       "      <td>34</td>\n",
       "      <td>1985-02-05</td>\n",
       "      <td>187</td>\n",
       "      <td>83</td>\n",
       "    </tr>\n",
       "    <tr>\n",
       "      <th>Neymar Jr</th>\n",
       "      <td>Neymar da Silva Santos Júnior</td>\n",
       "      <td>27</td>\n",
       "      <td>1992-02-05</td>\n",
       "      <td>175</td>\n",
       "      <td>68</td>\n",
       "    </tr>\n",
       "    <tr>\n",
       "      <th>K. De Bruyne</th>\n",
       "      <td>Kevin De Bruyne</td>\n",
       "      <td>28</td>\n",
       "      <td>1991-06-28</td>\n",
       "      <td>181</td>\n",
       "      <td>68</td>\n",
       "    </tr>\n",
       "    <tr>\n",
       "      <th>J. Oblak</th>\n",
       "      <td>Jan Oblak</td>\n",
       "      <td>27</td>\n",
       "      <td>1993-01-07</td>\n",
       "      <td>188</td>\n",
       "      <td>87</td>\n",
       "    </tr>\n",
       "  </tbody>\n",
       "</table>\n",
       "</div>"
      ]
     },
     "execution_count": 8,
     "metadata": {},
     "output_type": "execute_result"
    }
   ],
   "execution_count": 8
  },
  {
   "metadata": {
    "ExecuteTime": {
     "end_time": "2025-08-15T07:20:52.058656Z",
     "start_time": "2025-08-15T07:20:52.021468Z"
    }
   },
   "cell_type": "code",
   "source": "df.loc[['L. Messi','Cristiano Ronaldo']]",
   "id": "8acbcb5988658634",
   "outputs": [
    {
     "data": {
      "text/plain": [
       "                                             long_name  age         dob  \\\n",
       "short_name                                                                \n",
       "L. Messi                Lionel Andrés Messi Cuccittini   32  1987-06-24   \n",
       "Cristiano Ronaldo  Cristiano Ronaldo dos Santos Aveiro   34  1985-02-05   \n",
       "\n",
       "                   height_cm  weight_kg  \n",
       "short_name                               \n",
       "L. Messi                 170         72  \n",
       "Cristiano Ronaldo        187         83  "
      ],
      "text/html": [
       "<div>\n",
       "<style scoped>\n",
       "    .dataframe tbody tr th:only-of-type {\n",
       "        vertical-align: middle;\n",
       "    }\n",
       "\n",
       "    .dataframe tbody tr th {\n",
       "        vertical-align: top;\n",
       "    }\n",
       "\n",
       "    .dataframe thead th {\n",
       "        text-align: right;\n",
       "    }\n",
       "</style>\n",
       "<table border=\"1\" class=\"dataframe\">\n",
       "  <thead>\n",
       "    <tr style=\"text-align: right;\">\n",
       "      <th></th>\n",
       "      <th>long_name</th>\n",
       "      <th>age</th>\n",
       "      <th>dob</th>\n",
       "      <th>height_cm</th>\n",
       "      <th>weight_kg</th>\n",
       "    </tr>\n",
       "    <tr>\n",
       "      <th>short_name</th>\n",
       "      <th></th>\n",
       "      <th></th>\n",
       "      <th></th>\n",
       "      <th></th>\n",
       "      <th></th>\n",
       "    </tr>\n",
       "  </thead>\n",
       "  <tbody>\n",
       "    <tr>\n",
       "      <th>L. Messi</th>\n",
       "      <td>Lionel Andrés Messi Cuccittini</td>\n",
       "      <td>32</td>\n",
       "      <td>1987-06-24</td>\n",
       "      <td>170</td>\n",
       "      <td>72</td>\n",
       "    </tr>\n",
       "    <tr>\n",
       "      <th>Cristiano Ronaldo</th>\n",
       "      <td>Cristiano Ronaldo dos Santos Aveiro</td>\n",
       "      <td>34</td>\n",
       "      <td>1985-02-05</td>\n",
       "      <td>187</td>\n",
       "      <td>83</td>\n",
       "    </tr>\n",
       "  </tbody>\n",
       "</table>\n",
       "</div>"
      ]
     },
     "execution_count": 9,
     "metadata": {},
     "output_type": "execute_result"
    }
   ],
   "execution_count": 9
  },
  {
   "metadata": {
    "ExecuteTime": {
     "end_time": "2025-08-15T07:20:53.512318Z",
     "start_time": "2025-08-15T07:20:53.503759Z"
    }
   },
   "cell_type": "code",
   "source": [
    "#get the height of Messi and Ronaldo\n",
    "df.loc[['L. Messi','Cristiano Ronaldo'],'height_cm']"
   ],
   "id": "b9d8f895a878f51e",
   "outputs": [
    {
     "data": {
      "text/plain": [
       "short_name\n",
       "L. Messi             170\n",
       "Cristiano Ronaldo    187\n",
       "Name: height_cm, dtype: int64"
      ]
     },
     "execution_count": 10,
     "metadata": {},
     "output_type": "execute_result"
    }
   ],
   "execution_count": 10
  },
  {
   "metadata": {
    "ExecuteTime": {
     "end_time": "2025-08-15T07:21:13.994948Z",
     "start_time": "2025-08-15T07:21:13.988519Z"
    }
   },
   "cell_type": "code",
   "source": [
    "#get the height and weight of Messi\n",
    "df.loc['L. Messi',['weight_kg','height_cm']]"
   ],
   "id": "d0f20668fdf32185",
   "outputs": [
    {
     "data": {
      "text/plain": [
       "weight_kg     72\n",
       "height_cm    170\n",
       "Name: L. Messi, dtype: object"
      ]
     },
     "execution_count": 13,
     "metadata": {},
     "output_type": "execute_result"
    }
   ],
   "execution_count": 13
  },
  {
   "metadata": {
    "ExecuteTime": {
     "end_time": "2025-08-15T07:22:27.212989Z",
     "start_time": "2025-08-15T07:22:27.205503Z"
    }
   },
   "cell_type": "code",
   "source": [
    "#get the height of messi and ronaldo\n",
    "df.loc[['L. Messi','Cristiano Ronaldo'],'height_cm']"
   ],
   "id": "76b950dded9b2720",
   "outputs": [
    {
     "data": {
      "text/plain": [
       "short_name\n",
       "L. Messi             170\n",
       "Cristiano Ronaldo    187\n",
       "Name: height_cm, dtype: int64"
      ]
     },
     "execution_count": 15,
     "metadata": {},
     "output_type": "execute_result"
    }
   ],
   "execution_count": 15
  },
  {
   "metadata": {
    "ExecuteTime": {
     "end_time": "2025-08-15T07:21:15.434843Z",
     "start_time": "2025-08-15T07:21:15.423868Z"
    }
   },
   "cell_type": "code",
   "source": [
    "#get the height and weight of Messi and Ronaldo\n",
    "df.loc[['L. Messi','Cristiano Ronaldo'],['height_cm','weight_kg']]"
   ],
   "id": "1adcfd737ff4e414",
   "outputs": [
    {
     "data": {
      "text/plain": [
       "                   height_cm  weight_kg\n",
       "short_name                             \n",
       "L. Messi                 170         72\n",
       "Cristiano Ronaldo        187         83"
      ],
      "text/html": [
       "<div>\n",
       "<style scoped>\n",
       "    .dataframe tbody tr th:only-of-type {\n",
       "        vertical-align: middle;\n",
       "    }\n",
       "\n",
       "    .dataframe tbody tr th {\n",
       "        vertical-align: top;\n",
       "    }\n",
       "\n",
       "    .dataframe thead th {\n",
       "        text-align: right;\n",
       "    }\n",
       "</style>\n",
       "<table border=\"1\" class=\"dataframe\">\n",
       "  <thead>\n",
       "    <tr style=\"text-align: right;\">\n",
       "      <th></th>\n",
       "      <th>height_cm</th>\n",
       "      <th>weight_kg</th>\n",
       "    </tr>\n",
       "    <tr>\n",
       "      <th>short_name</th>\n",
       "      <th></th>\n",
       "      <th></th>\n",
       "    </tr>\n",
       "  </thead>\n",
       "  <tbody>\n",
       "    <tr>\n",
       "      <th>L. Messi</th>\n",
       "      <td>170</td>\n",
       "      <td>72</td>\n",
       "    </tr>\n",
       "    <tr>\n",
       "      <th>Cristiano Ronaldo</th>\n",
       "      <td>187</td>\n",
       "      <td>83</td>\n",
       "    </tr>\n",
       "  </tbody>\n",
       "</table>\n",
       "</div>"
      ]
     },
     "execution_count": 14,
     "metadata": {},
     "output_type": "execute_result"
    }
   ],
   "execution_count": 14
  },
  {
   "metadata": {
    "ExecuteTime": {
     "end_time": "2025-08-15T07:47:26.097286Z",
     "start_time": "2025-08-15T07:47:26.001429Z"
    }
   },
   "cell_type": "code",
   "source": [
    "#slice column labels\n",
    "players = ['L. Messi','Cristiano Ronaldo']\n",
    "df.loc[players,'age':'weight_kg']"
   ],
   "id": "d0972968165a6efc",
   "outputs": [
    {
     "data": {
      "text/plain": [
       "                   age         dob  height_cm  weight_kg\n",
       "short_name                                              \n",
       "L. Messi            32  1987-06-24        170         72\n",
       "Cristiano Ronaldo   34  1985-02-05        187         83"
      ],
      "text/html": [
       "<div>\n",
       "<style scoped>\n",
       "    .dataframe tbody tr th:only-of-type {\n",
       "        vertical-align: middle;\n",
       "    }\n",
       "\n",
       "    .dataframe tbody tr th {\n",
       "        vertical-align: top;\n",
       "    }\n",
       "\n",
       "    .dataframe thead th {\n",
       "        text-align: right;\n",
       "    }\n",
       "</style>\n",
       "<table border=\"1\" class=\"dataframe\">\n",
       "  <thead>\n",
       "    <tr style=\"text-align: right;\">\n",
       "      <th></th>\n",
       "      <th>age</th>\n",
       "      <th>dob</th>\n",
       "      <th>height_cm</th>\n",
       "      <th>weight_kg</th>\n",
       "    </tr>\n",
       "    <tr>\n",
       "      <th>short_name</th>\n",
       "      <th></th>\n",
       "      <th></th>\n",
       "      <th></th>\n",
       "      <th></th>\n",
       "    </tr>\n",
       "  </thead>\n",
       "  <tbody>\n",
       "    <tr>\n",
       "      <th>L. Messi</th>\n",
       "      <td>32</td>\n",
       "      <td>1987-06-24</td>\n",
       "      <td>170</td>\n",
       "      <td>72</td>\n",
       "    </tr>\n",
       "    <tr>\n",
       "      <th>Cristiano Ronaldo</th>\n",
       "      <td>34</td>\n",
       "      <td>1985-02-05</td>\n",
       "      <td>187</td>\n",
       "      <td>83</td>\n",
       "    </tr>\n",
       "  </tbody>\n",
       "</table>\n",
       "</div>"
      ]
     },
     "execution_count": 16,
     "metadata": {},
     "output_type": "execute_result"
    }
   ],
   "execution_count": 16
  },
  {
   "metadata": {
    "ExecuteTime": {
     "end_time": "2025-08-15T07:53:01.795016Z",
     "start_time": "2025-08-15T07:53:01.784038Z"
    }
   },
   "cell_type": "code",
   "source": [
    "#slice index labels\n",
    "columns = ['age','dob','height_cm','weight_kg']\n",
    "#get from top 1 player to top 10 player\n",
    "df.index[:10]\n",
    "df.loc['L. Messi':'H. Kane', columns]"
   ],
   "id": "8fe9a766bf64506c",
   "outputs": [
    {
     "data": {
      "text/plain": [
       "                   age         dob  height_cm  weight_kg\n",
       "short_name                                              \n",
       "L. Messi            32  1987-06-24        170         72\n",
       "Cristiano Ronaldo   34  1985-02-05        187         83\n",
       "Neymar Jr           27  1992-02-05        175         68\n",
       "K. De Bruyne        28  1991-06-28        181         68\n",
       "J. Oblak            27  1993-01-07        188         87\n",
       "V. van Dijk         29  1991-07-08        193         92\n",
       "Mohamed Salah       28  1992-06-15        175         71\n",
       "L. Modrić           34  1985-09-09        172         66\n",
       "E. Hazard           30  1991-01-07        175         74\n",
       "H. Kane             28  1993-07-28        188         86"
      ],
      "text/html": [
       "<div>\n",
       "<style scoped>\n",
       "    .dataframe tbody tr th:only-of-type {\n",
       "        vertical-align: middle;\n",
       "    }\n",
       "\n",
       "    .dataframe tbody tr th {\n",
       "        vertical-align: top;\n",
       "    }\n",
       "\n",
       "    .dataframe thead th {\n",
       "        text-align: right;\n",
       "    }\n",
       "</style>\n",
       "<table border=\"1\" class=\"dataframe\">\n",
       "  <thead>\n",
       "    <tr style=\"text-align: right;\">\n",
       "      <th></th>\n",
       "      <th>age</th>\n",
       "      <th>dob</th>\n",
       "      <th>height_cm</th>\n",
       "      <th>weight_kg</th>\n",
       "    </tr>\n",
       "    <tr>\n",
       "      <th>short_name</th>\n",
       "      <th></th>\n",
       "      <th></th>\n",
       "      <th></th>\n",
       "      <th></th>\n",
       "    </tr>\n",
       "  </thead>\n",
       "  <tbody>\n",
       "    <tr>\n",
       "      <th>L. Messi</th>\n",
       "      <td>32</td>\n",
       "      <td>1987-06-24</td>\n",
       "      <td>170</td>\n",
       "      <td>72</td>\n",
       "    </tr>\n",
       "    <tr>\n",
       "      <th>Cristiano Ronaldo</th>\n",
       "      <td>34</td>\n",
       "      <td>1985-02-05</td>\n",
       "      <td>187</td>\n",
       "      <td>83</td>\n",
       "    </tr>\n",
       "    <tr>\n",
       "      <th>Neymar Jr</th>\n",
       "      <td>27</td>\n",
       "      <td>1992-02-05</td>\n",
       "      <td>175</td>\n",
       "      <td>68</td>\n",
       "    </tr>\n",
       "    <tr>\n",
       "      <th>K. De Bruyne</th>\n",
       "      <td>28</td>\n",
       "      <td>1991-06-28</td>\n",
       "      <td>181</td>\n",
       "      <td>68</td>\n",
       "    </tr>\n",
       "    <tr>\n",
       "      <th>J. Oblak</th>\n",
       "      <td>27</td>\n",
       "      <td>1993-01-07</td>\n",
       "      <td>188</td>\n",
       "      <td>87</td>\n",
       "    </tr>\n",
       "    <tr>\n",
       "      <th>V. van Dijk</th>\n",
       "      <td>29</td>\n",
       "      <td>1991-07-08</td>\n",
       "      <td>193</td>\n",
       "      <td>92</td>\n",
       "    </tr>\n",
       "    <tr>\n",
       "      <th>Mohamed Salah</th>\n",
       "      <td>28</td>\n",
       "      <td>1992-06-15</td>\n",
       "      <td>175</td>\n",
       "      <td>71</td>\n",
       "    </tr>\n",
       "    <tr>\n",
       "      <th>L. Modrić</th>\n",
       "      <td>34</td>\n",
       "      <td>1985-09-09</td>\n",
       "      <td>172</td>\n",
       "      <td>66</td>\n",
       "    </tr>\n",
       "    <tr>\n",
       "      <th>E. Hazard</th>\n",
       "      <td>30</td>\n",
       "      <td>1991-01-07</td>\n",
       "      <td>175</td>\n",
       "      <td>74</td>\n",
       "    </tr>\n",
       "    <tr>\n",
       "      <th>H. Kane</th>\n",
       "      <td>28</td>\n",
       "      <td>1993-07-28</td>\n",
       "      <td>188</td>\n",
       "      <td>86</td>\n",
       "    </tr>\n",
       "  </tbody>\n",
       "</table>\n",
       "</div>"
      ]
     },
     "execution_count": 20,
     "metadata": {},
     "output_type": "execute_result"
    }
   ],
   "execution_count": 20
  },
  {
   "metadata": {
    "ExecuteTime": {
     "end_time": "2025-08-15T08:04:44.654134Z",
     "start_time": "2025-08-15T08:04:44.624225Z"
    }
   },
   "cell_type": "code",
   "source": [
    "#Selecting with condition (one condition).\n",
    "columns = ['age','dob','height_cm','weight_kg']\n",
    "df.loc[df['height_cm']>180,columns]"
   ],
   "id": "3271795693c90f93",
   "outputs": [
    {
     "data": {
      "text/plain": [
       "                   age         dob  height_cm  weight_kg\n",
       "short_name                                              \n",
       "Cristiano Ronaldo   34  1985-02-05        187         83\n",
       "K. De Bruyne        28  1991-06-28        181         68\n",
       "J. Oblak            27  1993-01-07        188         87\n",
       "V. van Dijk         29  1991-07-08        193         92\n",
       "H. Kane             28  1993-07-28        188         86\n",
       "K. Benzema          31  1987-12-19        185         81\n",
       "P. Pogba            28  1993-03-15        191         84\n",
       "Alisson             28  1992-10-02        191         91\n",
       "Sergio Ramos        35  1986-03-30        184         82\n",
       "R. Lewandowski      32  1988-08-21        185         80\n",
       "E. Haaland          21  2000-07-21        194         88"
      ],
      "text/html": [
       "<div>\n",
       "<style scoped>\n",
       "    .dataframe tbody tr th:only-of-type {\n",
       "        vertical-align: middle;\n",
       "    }\n",
       "\n",
       "    .dataframe tbody tr th {\n",
       "        vertical-align: top;\n",
       "    }\n",
       "\n",
       "    .dataframe thead th {\n",
       "        text-align: right;\n",
       "    }\n",
       "</style>\n",
       "<table border=\"1\" class=\"dataframe\">\n",
       "  <thead>\n",
       "    <tr style=\"text-align: right;\">\n",
       "      <th></th>\n",
       "      <th>age</th>\n",
       "      <th>dob</th>\n",
       "      <th>height_cm</th>\n",
       "      <th>weight_kg</th>\n",
       "    </tr>\n",
       "    <tr>\n",
       "      <th>short_name</th>\n",
       "      <th></th>\n",
       "      <th></th>\n",
       "      <th></th>\n",
       "      <th></th>\n",
       "    </tr>\n",
       "  </thead>\n",
       "  <tbody>\n",
       "    <tr>\n",
       "      <th>Cristiano Ronaldo</th>\n",
       "      <td>34</td>\n",
       "      <td>1985-02-05</td>\n",
       "      <td>187</td>\n",
       "      <td>83</td>\n",
       "    </tr>\n",
       "    <tr>\n",
       "      <th>K. De Bruyne</th>\n",
       "      <td>28</td>\n",
       "      <td>1991-06-28</td>\n",
       "      <td>181</td>\n",
       "      <td>68</td>\n",
       "    </tr>\n",
       "    <tr>\n",
       "      <th>J. Oblak</th>\n",
       "      <td>27</td>\n",
       "      <td>1993-01-07</td>\n",
       "      <td>188</td>\n",
       "      <td>87</td>\n",
       "    </tr>\n",
       "    <tr>\n",
       "      <th>V. van Dijk</th>\n",
       "      <td>29</td>\n",
       "      <td>1991-07-08</td>\n",
       "      <td>193</td>\n",
       "      <td>92</td>\n",
       "    </tr>\n",
       "    <tr>\n",
       "      <th>H. Kane</th>\n",
       "      <td>28</td>\n",
       "      <td>1993-07-28</td>\n",
       "      <td>188</td>\n",
       "      <td>86</td>\n",
       "    </tr>\n",
       "    <tr>\n",
       "      <th>K. Benzema</th>\n",
       "      <td>31</td>\n",
       "      <td>1987-12-19</td>\n",
       "      <td>185</td>\n",
       "      <td>81</td>\n",
       "    </tr>\n",
       "    <tr>\n",
       "      <th>P. Pogba</th>\n",
       "      <td>28</td>\n",
       "      <td>1993-03-15</td>\n",
       "      <td>191</td>\n",
       "      <td>84</td>\n",
       "    </tr>\n",
       "    <tr>\n",
       "      <th>Alisson</th>\n",
       "      <td>28</td>\n",
       "      <td>1992-10-02</td>\n",
       "      <td>191</td>\n",
       "      <td>91</td>\n",
       "    </tr>\n",
       "    <tr>\n",
       "      <th>Sergio Ramos</th>\n",
       "      <td>35</td>\n",
       "      <td>1986-03-30</td>\n",
       "      <td>184</td>\n",
       "      <td>82</td>\n",
       "    </tr>\n",
       "    <tr>\n",
       "      <th>R. Lewandowski</th>\n",
       "      <td>32</td>\n",
       "      <td>1988-08-21</td>\n",
       "      <td>185</td>\n",
       "      <td>80</td>\n",
       "    </tr>\n",
       "    <tr>\n",
       "      <th>E. Haaland</th>\n",
       "      <td>21</td>\n",
       "      <td>2000-07-21</td>\n",
       "      <td>194</td>\n",
       "      <td>88</td>\n",
       "    </tr>\n",
       "  </tbody>\n",
       "</table>\n",
       "</div>"
      ]
     },
     "execution_count": 21,
     "metadata": {},
     "output_type": "execute_result"
    }
   ],
   "execution_count": 21
  },
  {
   "metadata": {
    "ExecuteTime": {
     "end_time": "2025-08-15T08:26:09.269333Z",
     "start_time": "2025-08-15T08:26:09.251914Z"
    }
   },
   "cell_type": "code",
   "source": [
    "#Multiple condition\n",
    "columns = ['age','dob','height_cm','weight_kg']\n",
    "df.loc[(df['height_cm']>180)&(df['weight_kg']>80), :]\n",
    "df.loc[(df['height_cm']>180)&(df['weight_kg']>80), columns]"
   ],
   "id": "3f1dea3ad1eacdfe",
   "outputs": [
    {
     "data": {
      "text/plain": [
       "                   age         dob  height_cm  weight_kg\n",
       "short_name                                              \n",
       "Cristiano Ronaldo   34  1985-02-05        187         83\n",
       "J. Oblak            27  1993-01-07        188         87\n",
       "V. van Dijk         29  1991-07-08        193         92\n",
       "H. Kane             28  1993-07-28        188         86\n",
       "K. Benzema          31  1987-12-19        185         81\n",
       "P. Pogba            28  1993-03-15        191         84\n",
       "Alisson             28  1992-10-02        191         91\n",
       "Sergio Ramos        35  1986-03-30        184         82\n",
       "E. Haaland          21  2000-07-21        194         88"
      ],
      "text/html": [
       "<div>\n",
       "<style scoped>\n",
       "    .dataframe tbody tr th:only-of-type {\n",
       "        vertical-align: middle;\n",
       "    }\n",
       "\n",
       "    .dataframe tbody tr th {\n",
       "        vertical-align: top;\n",
       "    }\n",
       "\n",
       "    .dataframe thead th {\n",
       "        text-align: right;\n",
       "    }\n",
       "</style>\n",
       "<table border=\"1\" class=\"dataframe\">\n",
       "  <thead>\n",
       "    <tr style=\"text-align: right;\">\n",
       "      <th></th>\n",
       "      <th>age</th>\n",
       "      <th>dob</th>\n",
       "      <th>height_cm</th>\n",
       "      <th>weight_kg</th>\n",
       "    </tr>\n",
       "    <tr>\n",
       "      <th>short_name</th>\n",
       "      <th></th>\n",
       "      <th></th>\n",
       "      <th></th>\n",
       "      <th></th>\n",
       "    </tr>\n",
       "  </thead>\n",
       "  <tbody>\n",
       "    <tr>\n",
       "      <th>Cristiano Ronaldo</th>\n",
       "      <td>34</td>\n",
       "      <td>1985-02-05</td>\n",
       "      <td>187</td>\n",
       "      <td>83</td>\n",
       "    </tr>\n",
       "    <tr>\n",
       "      <th>J. Oblak</th>\n",
       "      <td>27</td>\n",
       "      <td>1993-01-07</td>\n",
       "      <td>188</td>\n",
       "      <td>87</td>\n",
       "    </tr>\n",
       "    <tr>\n",
       "      <th>V. van Dijk</th>\n",
       "      <td>29</td>\n",
       "      <td>1991-07-08</td>\n",
       "      <td>193</td>\n",
       "      <td>92</td>\n",
       "    </tr>\n",
       "    <tr>\n",
       "      <th>H. Kane</th>\n",
       "      <td>28</td>\n",
       "      <td>1993-07-28</td>\n",
       "      <td>188</td>\n",
       "      <td>86</td>\n",
       "    </tr>\n",
       "    <tr>\n",
       "      <th>K. Benzema</th>\n",
       "      <td>31</td>\n",
       "      <td>1987-12-19</td>\n",
       "      <td>185</td>\n",
       "      <td>81</td>\n",
       "    </tr>\n",
       "    <tr>\n",
       "      <th>P. Pogba</th>\n",
       "      <td>28</td>\n",
       "      <td>1993-03-15</td>\n",
       "      <td>191</td>\n",
       "      <td>84</td>\n",
       "    </tr>\n",
       "    <tr>\n",
       "      <th>Alisson</th>\n",
       "      <td>28</td>\n",
       "      <td>1992-10-02</td>\n",
       "      <td>191</td>\n",
       "      <td>91</td>\n",
       "    </tr>\n",
       "    <tr>\n",
       "      <th>Sergio Ramos</th>\n",
       "      <td>35</td>\n",
       "      <td>1986-03-30</td>\n",
       "      <td>184</td>\n",
       "      <td>82</td>\n",
       "    </tr>\n",
       "    <tr>\n",
       "      <th>E. Haaland</th>\n",
       "      <td>21</td>\n",
       "      <td>2000-07-21</td>\n",
       "      <td>194</td>\n",
       "      <td>88</td>\n",
       "    </tr>\n",
       "  </tbody>\n",
       "</table>\n",
       "</div>"
      ]
     },
     "execution_count": 25,
     "metadata": {},
     "output_type": "execute_result"
    }
   ],
   "execution_count": 25
  },
  {
   "metadata": {
    "ExecuteTime": {
     "end_time": "2025-08-15T08:31:46.208031Z",
     "start_time": "2025-08-15T08:31:46.201413Z"
    }
   },
   "cell_type": "code",
   "source": [
    "#USE ILOC METHOD\n",
    "#Select with a single value\n",
    "#iloc[row_position,column_position]\n",
    "#get the height of Messi\n",
    "df.iloc[0,3]"
   ],
   "id": "ce866328a732a5e1",
   "outputs": [
    {
     "data": {
      "text/plain": [
       "170"
      ]
     },
     "execution_count": 28,
     "metadata": {},
     "output_type": "execute_result"
    }
   ],
   "execution_count": 28
  },
  {
   "metadata": {
    "ExecuteTime": {
     "end_time": "2025-08-15T08:34:47.494792Z",
     "start_time": "2025-08-15T08:34:47.485815Z"
    }
   },
   "cell_type": "code",
   "source": [
    "#get the weight of Ronaldo\n",
    "df.iloc[1,4]"
   ],
   "id": "1ae6df8e51b9b3a4",
   "outputs": [
    {
     "data": {
      "text/plain": [
       "83"
      ]
     },
     "execution_count": 30,
     "metadata": {},
     "output_type": "execute_result"
    }
   ],
   "execution_count": 30
  },
  {
   "metadata": {
    "ExecuteTime": {
     "end_time": "2025-08-15T08:35:46.035579Z",
     "start_time": "2025-08-15T08:35:46.025699Z"
    }
   },
   "cell_type": "code",
   "source": [
    "#get all row inside the 'height_cm' columns\n",
    "df.iloc[:,3]"
   ],
   "id": "1fe57a062966dcbf",
   "outputs": [
    {
     "data": {
      "text/plain": [
       "short_name\n",
       "L. Messi             170\n",
       "Cristiano Ronaldo    187\n",
       "Neymar Jr            175\n",
       "K. De Bruyne         181\n",
       "J. Oblak             188\n",
       "V. van Dijk          193\n",
       "Mohamed Salah        175\n",
       "L. Modrić            172\n",
       "E. Hazard            175\n",
       "H. Kane              188\n",
       "A. Griezmann         176\n",
       "N. Kanté             168\n",
       "K. Benzema           185\n",
       "R. Sterling          170\n",
       "P. Pogba             191\n",
       "Alisson              191\n",
       "Sergio Ramos         184\n",
       "R. Lewandowski       185\n",
       "K. Mbappé            178\n",
       "E. Haaland           194\n",
       "Name: height_cm, dtype: int64"
      ]
     },
     "execution_count": 31,
     "metadata": {},
     "output_type": "execute_result"
    }
   ],
   "execution_count": 31
  },
  {
   "metadata": {
    "ExecuteTime": {
     "end_time": "2025-08-15T08:37:24.978205Z",
     "start_time": "2025-08-15T08:37:24.970348Z"
    }
   },
   "cell_type": "code",
   "source": [
    "#get all columns that correspond to the index 'L. Messi'\n",
    "df.iloc[0,:]"
   ],
   "id": "4cec502bb3b8f4ca",
   "outputs": [
    {
     "data": {
      "text/plain": [
       "long_name    Lionel Andrés Messi Cuccittini\n",
       "age                                      32\n",
       "dob                              1987-06-24\n",
       "height_cm                               170\n",
       "weight_kg                                72\n",
       "Name: L. Messi, dtype: object"
      ]
     },
     "execution_count": 32,
     "metadata": {},
     "output_type": "execute_result"
    }
   ],
   "execution_count": 32
  },
  {
   "metadata": {
    "ExecuteTime": {
     "end_time": "2025-08-15T08:45:00.040147Z",
     "start_time": "2025-08-15T08:45:00.025836Z"
    }
   },
   "cell_type": "code",
   "source": [
    "#selecting with a list of values\n",
    "#get all data about Messi and Ronaldo\n",
    "df.iloc[[0,1]]"
   ],
   "id": "92e53cbce150cf4a",
   "outputs": [
    {
     "data": {
      "text/plain": [
       "                                             long_name  age         dob  \\\n",
       "short_name                                                                \n",
       "L. Messi                Lionel Andrés Messi Cuccittini   32  1987-06-24   \n",
       "Cristiano Ronaldo  Cristiano Ronaldo dos Santos Aveiro   34  1985-02-05   \n",
       "\n",
       "                   height_cm  weight_kg  \n",
       "short_name                               \n",
       "L. Messi                 170         72  \n",
       "Cristiano Ronaldo        187         83  "
      ],
      "text/html": [
       "<div>\n",
       "<style scoped>\n",
       "    .dataframe tbody tr th:only-of-type {\n",
       "        vertical-align: middle;\n",
       "    }\n",
       "\n",
       "    .dataframe tbody tr th {\n",
       "        vertical-align: top;\n",
       "    }\n",
       "\n",
       "    .dataframe thead th {\n",
       "        text-align: right;\n",
       "    }\n",
       "</style>\n",
       "<table border=\"1\" class=\"dataframe\">\n",
       "  <thead>\n",
       "    <tr style=\"text-align: right;\">\n",
       "      <th></th>\n",
       "      <th>long_name</th>\n",
       "      <th>age</th>\n",
       "      <th>dob</th>\n",
       "      <th>height_cm</th>\n",
       "      <th>weight_kg</th>\n",
       "    </tr>\n",
       "    <tr>\n",
       "      <th>short_name</th>\n",
       "      <th></th>\n",
       "      <th></th>\n",
       "      <th></th>\n",
       "      <th></th>\n",
       "      <th></th>\n",
       "    </tr>\n",
       "  </thead>\n",
       "  <tbody>\n",
       "    <tr>\n",
       "      <th>L. Messi</th>\n",
       "      <td>Lionel Andrés Messi Cuccittini</td>\n",
       "      <td>32</td>\n",
       "      <td>1987-06-24</td>\n",
       "      <td>170</td>\n",
       "      <td>72</td>\n",
       "    </tr>\n",
       "    <tr>\n",
       "      <th>Cristiano Ronaldo</th>\n",
       "      <td>Cristiano Ronaldo dos Santos Aveiro</td>\n",
       "      <td>34</td>\n",
       "      <td>1985-02-05</td>\n",
       "      <td>187</td>\n",
       "      <td>83</td>\n",
       "    </tr>\n",
       "  </tbody>\n",
       "</table>\n",
       "</div>"
      ]
     },
     "execution_count": 33,
     "metadata": {},
     "output_type": "execute_result"
    }
   ],
   "execution_count": 33
  },
  {
   "metadata": {
    "ExecuteTime": {
     "end_time": "2025-08-15T08:45:55.343332Z",
     "start_time": "2025-08-15T08:45:55.333471Z"
    }
   },
   "cell_type": "code",
   "source": [
    "#get the height of messi and ronaldo\n",
    "df.iloc[[0,1],3]"
   ],
   "id": "8890b28ef389e56",
   "outputs": [
    {
     "data": {
      "text/plain": [
       "short_name\n",
       "L. Messi             170\n",
       "Cristiano Ronaldo    187\n",
       "Name: height_cm, dtype: int64"
      ]
     },
     "execution_count": 34,
     "metadata": {},
     "output_type": "execute_result"
    }
   ],
   "execution_count": 34
  },
  {
   "metadata": {
    "ExecuteTime": {
     "end_time": "2025-08-15T08:47:31.876740Z",
     "start_time": "2025-08-15T08:47:31.868858Z"
    }
   },
   "cell_type": "code",
   "source": [
    "#get the height and weight of Messi\n",
    "df.iloc[0,[3,4]]"
   ],
   "id": "dd4393b63ca5285d",
   "outputs": [
    {
     "data": {
      "text/plain": [
       "height_cm    170\n",
       "weight_kg     72\n",
       "Name: L. Messi, dtype: object"
      ]
     },
     "execution_count": 35,
     "metadata": {},
     "output_type": "execute_result"
    }
   ],
   "execution_count": 35
  },
  {
   "metadata": {
    "ExecuteTime": {
     "end_time": "2025-08-15T08:49:50.878816Z",
     "start_time": "2025-08-15T08:49:50.866818Z"
    }
   },
   "cell_type": "code",
   "source": [
    "#get the height and weight of Messi and Ronaldo\n",
    "df.iloc[[0,1],[4,3]]"
   ],
   "id": "48ce4bf22e02fbd5",
   "outputs": [
    {
     "data": {
      "text/plain": [
       "                   weight_kg  height_cm\n",
       "short_name                             \n",
       "L. Messi                  72        170\n",
       "Cristiano Ronaldo         83        187"
      ],
      "text/html": [
       "<div>\n",
       "<style scoped>\n",
       "    .dataframe tbody tr th:only-of-type {\n",
       "        vertical-align: middle;\n",
       "    }\n",
       "\n",
       "    .dataframe tbody tr th {\n",
       "        vertical-align: top;\n",
       "    }\n",
       "\n",
       "    .dataframe thead th {\n",
       "        text-align: right;\n",
       "    }\n",
       "</style>\n",
       "<table border=\"1\" class=\"dataframe\">\n",
       "  <thead>\n",
       "    <tr style=\"text-align: right;\">\n",
       "      <th></th>\n",
       "      <th>weight_kg</th>\n",
       "      <th>height_cm</th>\n",
       "    </tr>\n",
       "    <tr>\n",
       "      <th>short_name</th>\n",
       "      <th></th>\n",
       "      <th></th>\n",
       "    </tr>\n",
       "  </thead>\n",
       "  <tbody>\n",
       "    <tr>\n",
       "      <th>L. Messi</th>\n",
       "      <td>72</td>\n",
       "      <td>170</td>\n",
       "    </tr>\n",
       "    <tr>\n",
       "      <th>Cristiano Ronaldo</th>\n",
       "      <td>83</td>\n",
       "      <td>187</td>\n",
       "    </tr>\n",
       "  </tbody>\n",
       "</table>\n",
       "</div>"
      ]
     },
     "execution_count": 38,
     "metadata": {},
     "output_type": "execute_result"
    }
   ],
   "execution_count": 38
  },
  {
   "metadata": {
    "ExecuteTime": {
     "end_time": "2025-08-15T08:58:41.729811Z",
     "start_time": "2025-08-15T08:58:41.720772Z"
    }
   },
   "cell_type": "code",
   "source": [
    "#selectitg a range of data with a slice\n",
    "players = [0,1]\n",
    "df.iloc[:,1:5].head()"
   ],
   "id": "41f4f7c9d52b4e57",
   "outputs": [
    {
     "data": {
      "text/plain": [
       "                   age         dob  height_cm  weight_kg\n",
       "short_name                                              \n",
       "L. Messi            32  1987-06-24        170         72\n",
       "Cristiano Ronaldo   34  1985-02-05        187         83\n",
       "Neymar Jr           27  1992-02-05        175         68\n",
       "K. De Bruyne        28  1991-06-28        181         68\n",
       "J. Oblak            27  1993-01-07        188         87"
      ],
      "text/html": [
       "<div>\n",
       "<style scoped>\n",
       "    .dataframe tbody tr th:only-of-type {\n",
       "        vertical-align: middle;\n",
       "    }\n",
       "\n",
       "    .dataframe tbody tr th {\n",
       "        vertical-align: top;\n",
       "    }\n",
       "\n",
       "    .dataframe thead th {\n",
       "        text-align: right;\n",
       "    }\n",
       "</style>\n",
       "<table border=\"1\" class=\"dataframe\">\n",
       "  <thead>\n",
       "    <tr style=\"text-align: right;\">\n",
       "      <th></th>\n",
       "      <th>age</th>\n",
       "      <th>dob</th>\n",
       "      <th>height_cm</th>\n",
       "      <th>weight_kg</th>\n",
       "    </tr>\n",
       "    <tr>\n",
       "      <th>short_name</th>\n",
       "      <th></th>\n",
       "      <th></th>\n",
       "      <th></th>\n",
       "      <th></th>\n",
       "    </tr>\n",
       "  </thead>\n",
       "  <tbody>\n",
       "    <tr>\n",
       "      <th>L. Messi</th>\n",
       "      <td>32</td>\n",
       "      <td>1987-06-24</td>\n",
       "      <td>170</td>\n",
       "      <td>72</td>\n",
       "    </tr>\n",
       "    <tr>\n",
       "      <th>Cristiano Ronaldo</th>\n",
       "      <td>34</td>\n",
       "      <td>1985-02-05</td>\n",
       "      <td>187</td>\n",
       "      <td>83</td>\n",
       "    </tr>\n",
       "    <tr>\n",
       "      <th>Neymar Jr</th>\n",
       "      <td>27</td>\n",
       "      <td>1992-02-05</td>\n",
       "      <td>175</td>\n",
       "      <td>68</td>\n",
       "    </tr>\n",
       "    <tr>\n",
       "      <th>K. De Bruyne</th>\n",
       "      <td>28</td>\n",
       "      <td>1991-06-28</td>\n",
       "      <td>181</td>\n",
       "      <td>68</td>\n",
       "    </tr>\n",
       "    <tr>\n",
       "      <th>J. Oblak</th>\n",
       "      <td>27</td>\n",
       "      <td>1993-01-07</td>\n",
       "      <td>188</td>\n",
       "      <td>87</td>\n",
       "    </tr>\n",
       "  </tbody>\n",
       "</table>\n",
       "</div>"
      ]
     },
     "execution_count": 42,
     "metadata": {},
     "output_type": "execute_result"
    }
   ],
   "execution_count": 42
  },
  {
   "metadata": {
    "ExecuteTime": {
     "end_time": "2025-08-15T09:02:35.356193Z",
     "start_time": "2025-08-15T09:02:35.345019Z"
    }
   },
   "cell_type": "code",
   "source": [
    "columns = [1,2,3,4]\n",
    "df.iloc[0:10,columns]"
   ],
   "id": "b6abdd51bc16235a",
   "outputs": [
    {
     "data": {
      "text/plain": [
       "                   age         dob  height_cm  weight_kg\n",
       "short_name                                              \n",
       "L. Messi            32  1987-06-24        170         72\n",
       "Cristiano Ronaldo   34  1985-02-05        187         83\n",
       "Neymar Jr           27  1992-02-05        175         68\n",
       "K. De Bruyne        28  1991-06-28        181         68\n",
       "J. Oblak            27  1993-01-07        188         87\n",
       "V. van Dijk         29  1991-07-08        193         92\n",
       "Mohamed Salah       28  1992-06-15        175         71\n",
       "L. Modrić           34  1985-09-09        172         66\n",
       "E. Hazard           30  1991-01-07        175         74\n",
       "H. Kane             28  1993-07-28        188         86"
      ],
      "text/html": [
       "<div>\n",
       "<style scoped>\n",
       "    .dataframe tbody tr th:only-of-type {\n",
       "        vertical-align: middle;\n",
       "    }\n",
       "\n",
       "    .dataframe tbody tr th {\n",
       "        vertical-align: top;\n",
       "    }\n",
       "\n",
       "    .dataframe thead th {\n",
       "        text-align: right;\n",
       "    }\n",
       "</style>\n",
       "<table border=\"1\" class=\"dataframe\">\n",
       "  <thead>\n",
       "    <tr style=\"text-align: right;\">\n",
       "      <th></th>\n",
       "      <th>age</th>\n",
       "      <th>dob</th>\n",
       "      <th>height_cm</th>\n",
       "      <th>weight_kg</th>\n",
       "    </tr>\n",
       "    <tr>\n",
       "      <th>short_name</th>\n",
       "      <th></th>\n",
       "      <th></th>\n",
       "      <th></th>\n",
       "      <th></th>\n",
       "    </tr>\n",
       "  </thead>\n",
       "  <tbody>\n",
       "    <tr>\n",
       "      <th>L. Messi</th>\n",
       "      <td>32</td>\n",
       "      <td>1987-06-24</td>\n",
       "      <td>170</td>\n",
       "      <td>72</td>\n",
       "    </tr>\n",
       "    <tr>\n",
       "      <th>Cristiano Ronaldo</th>\n",
       "      <td>34</td>\n",
       "      <td>1985-02-05</td>\n",
       "      <td>187</td>\n",
       "      <td>83</td>\n",
       "    </tr>\n",
       "    <tr>\n",
       "      <th>Neymar Jr</th>\n",
       "      <td>27</td>\n",
       "      <td>1992-02-05</td>\n",
       "      <td>175</td>\n",
       "      <td>68</td>\n",
       "    </tr>\n",
       "    <tr>\n",
       "      <th>K. De Bruyne</th>\n",
       "      <td>28</td>\n",
       "      <td>1991-06-28</td>\n",
       "      <td>181</td>\n",
       "      <td>68</td>\n",
       "    </tr>\n",
       "    <tr>\n",
       "      <th>J. Oblak</th>\n",
       "      <td>27</td>\n",
       "      <td>1993-01-07</td>\n",
       "      <td>188</td>\n",
       "      <td>87</td>\n",
       "    </tr>\n",
       "    <tr>\n",
       "      <th>V. van Dijk</th>\n",
       "      <td>29</td>\n",
       "      <td>1991-07-08</td>\n",
       "      <td>193</td>\n",
       "      <td>92</td>\n",
       "    </tr>\n",
       "    <tr>\n",
       "      <th>Mohamed Salah</th>\n",
       "      <td>28</td>\n",
       "      <td>1992-06-15</td>\n",
       "      <td>175</td>\n",
       "      <td>71</td>\n",
       "    </tr>\n",
       "    <tr>\n",
       "      <th>L. Modrić</th>\n",
       "      <td>34</td>\n",
       "      <td>1985-09-09</td>\n",
       "      <td>172</td>\n",
       "      <td>66</td>\n",
       "    </tr>\n",
       "    <tr>\n",
       "      <th>E. Hazard</th>\n",
       "      <td>30</td>\n",
       "      <td>1991-01-07</td>\n",
       "      <td>175</td>\n",
       "      <td>74</td>\n",
       "    </tr>\n",
       "    <tr>\n",
       "      <th>H. Kane</th>\n",
       "      <td>28</td>\n",
       "      <td>1993-07-28</td>\n",
       "      <td>188</td>\n",
       "      <td>86</td>\n",
       "    </tr>\n",
       "  </tbody>\n",
       "</table>\n",
       "</div>"
      ]
     },
     "execution_count": 44,
     "metadata": {},
     "output_type": "execute_result"
    }
   ],
   "execution_count": 44
  },
  {
   "metadata": {},
   "cell_type": "code",
   "outputs": [],
   "execution_count": null,
   "source": "",
   "id": "c84af14e8334168c"
  }
 ],
 "metadata": {
  "kernelspec": {
   "display_name": "Python [conda env:base] *",
   "language": "python",
   "name": "conda-base-py"
  },
  "language_info": {
   "codemirror_mode": {
    "name": "ipython",
    "version": 2
   },
   "file_extension": ".py",
   "mimetype": "text/x-python",
   "name": "python",
   "nbconvert_exporter": "python",
   "pygments_lexer": "ipython2",
   "version": "2.7.6"
  }
 },
 "nbformat": 4,
 "nbformat_minor": 5
}
